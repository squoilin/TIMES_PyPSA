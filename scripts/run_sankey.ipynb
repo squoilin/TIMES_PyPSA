{
 "cells": [
  {
   "cell_type": "markdown",
   "metadata": {},
   "source": [
    "# Import and plot TIMES data"
   ]
  },
  {
   "cell_type": "code",
   "execution_count": 9,
   "metadata": {},
   "outputs": [
    {
     "name": "stdout",
     "output_type": "stream",
     "text": [
      "The autoreload extension is already loaded. To reload it, use:\n",
      "  %reload_ext autoreload\n"
     ]
    }
   ],
   "source": [
    "%load_ext autoreload\n",
    "%autoreload 2\n",
    "\n",
    "# Enable inline rendering for plotly in Jupyter\n",
    "import plotly.io as pio\n",
    "pio.renderers.default = 'notebook_connected'\n",
    "\n",
    "# Imports for running the Sankey pipeline from the module\n",
    "from sankey_diagram import *\n"
   ]
  },
  {
   "cell_type": "markdown",
   "metadata": {},
   "source": [
    "## Load the data"
   ]
  },
  {
   "cell_type": "code",
   "execution_count": 10,
   "metadata": {},
   "outputs": [
    {
     "name": "stdout",
     "output_type": "stream",
     "text": [
      "TIMES Energy Flow Sankey Diagram Generator\n",
      "==================================================\n",
      "Parsing ../data/demos_004_0209.vd...\n",
      "Parsed 1184 data records\n",
      "Processing data by year...\n",
      "Found data for years: [2005, 2006, 2010, 2015, 2020, 2200]\n"
     ]
    }
   ],
   "source": [
    "# Replicate main() logic with interactive display\n",
    "vd_file = \"../data/demos_004_0209.vd\"\n",
    "\n",
    "print(\"TIMES Energy Flow Sankey Diagram Generator\")\n",
    "print(\"=\" * 50)\n",
    "\n",
    "processor = TIMESEnergyFlowProcessor(vd_file)\n",
    "processor.parse_vd_file()\n",
    "processor.process_data_by_year()\n",
    "\n",
    "selected_years = list(processor.processed_data.keys())\n"
   ]
  },
  {
   "cell_type": "markdown",
   "metadata": {},
   "source": [
    "## Sankey diagram"
   ]
  },
  {
   "cell_type": "code",
   "execution_count": 5,
   "metadata": {},
   "outputs": [
    {
     "name": "stdout",
     "output_type": "stream",
     "text": [
      "\n",
      "Creating interactive Sankey diagram for years: [2005, 2006, 2010, 2015, 2020, 2200] in TWh\n",
      "Created interactive Sankey with 5 years\n"
     ]
    },
    {
     "data": {
      "text/html": [
       "        <script type=\"text/javascript\">\n",
       "        window.PlotlyConfig = {MathJaxConfig: 'local'};\n",
       "        if (window.MathJax && window.MathJax.Hub && window.MathJax.Hub.Config) {window.MathJax.Hub.Config({SVG: {font: \"STIX-Web\"}});}\n",
       "        </script>\n",
       "        <script type=\"module\">import \"https://cdn.plot.ly/plotly-3.1.0.min\"</script>\n",
       "        "
      ]
     },
     "metadata": {},
     "output_type": "display_data"
    },
    {
     "data": {
      "text/html": [
       "<div>            <script src=\"https://cdnjs.cloudflare.com/ajax/libs/mathjax/2.7.5/MathJax.js?config=TeX-AMS-MML_SVG\"></script><script type=\"text/javascript\">if (window.MathJax && window.MathJax.Hub && window.MathJax.Hub.Config) {window.MathJax.Hub.Config({SVG: {font: \"STIX-Web\"}});}</script>                <script type=\"text/javascript\">window.PlotlyConfig = {MathJaxConfig: 'local'};</script>\n",
       "        <script charset=\"utf-8\" src=\"https://cdn.plot.ly/plotly-3.1.0.min.js\" integrity=\"sha256-Ei4740bWZhaUTQuD6q9yQlgVCMPBz6CZWhevDYPv93A=\" crossorigin=\"anonymous\"></script>                <div id=\"fa689aad-f230-4196-87ee-13d1fd61a126\" class=\"plotly-graph-div\" style=\"height:800px; width:1200px;\"></div>            <script type=\"text/javascript\">                window.PLOTLYENV=window.PLOTLYENV || {};                                if (document.getElementById(\"fa689aad-f230-4196-87ee-13d1fd61a126\")) {                    Plotly.newPlot(                        \"fa689aad-f230-4196-87ee-13d1fd61a126\",                        [{\"link\":{\"color\":[\"rgba(180,180,180,0.6)\",\"rgba(180,180,180,0.6)\",\"rgba(180,180,180,0.6)\",\"rgba(180,180,180,0.6)\",\"rgba(180,180,180,0.6)\",\"rgba(180,180,180,0.6)\",\"rgba(180,180,180,0.6)\",\"rgba(180,180,180,0.6)\",\"rgba(180,180,180,0.6)\",\"rgba(180,180,180,0.6)\",\"rgba(180,180,180,0.6)\",\"rgba(180,180,180,0.6)\",\"rgba(180,180,180,0.6)\",\"rgba(180,180,180,0.6)\",\"rgba(180,180,180,0.6)\",\"rgba(180,180,180,0.6)\",\"rgba(180,180,180,0.6)\",\"rgba(180,180,180,0.6)\",\"rgba(180,180,180,0.6)\",\"rgba(180,180,180,0.6)\",\"rgba(180,180,180,0.6)\",\"rgba(180,180,180,0.6)\",\"rgba(180,180,180,0.6)\",\"rgba(180,180,180,0.6)\",\"rgba(180,180,180,0.6)\",\"rgba(180,180,180,0.6)\",\"rgba(180,180,180,0.6)\",\"rgba(180,180,180,0.6)\",\"rgba(180,180,180,0.6)\",\"rgba(180,180,180,0.6)\"],\"customdata\":[\"Coal \\u2192 Industrial Demand\\u003cbr\\u003eValue: 999.1 TWh\",\"Electricity \\u2192 Electricity Demand\\u003cbr\\u003eValue: 2895.3 TWh\",\"Renewable Electricity \\u2192 Electricity\\u003cbr\\u003eValue: 348.8 TWh\",\"Coal Electricity \\u2192 Electricity\\u003cbr\\u003eValue: 1023.8 TWh\",\"Gas Electricity \\u2192 Electricity\\u003cbr\\u003eValue: 771.6 TWh\",\"Nuclear Electricity \\u2192 Electricity\\u003cbr\\u003eValue: 987.7 TWh\",\"Oil Electricity \\u2192 Electricity\\u003cbr\\u003eValue: 85.0 TWh\",\"Coal \\u2192 Coal Exports\\u003cbr\\u003eValue: 318.6 TWh\",\"Natural Gas \\u2192 Gas Exports\\u003cbr\\u003eValue: 699.0 TWh\",\"Oil \\u2192 Oil Exports\\u003cbr\\u003eValue: 4119.6 TWh\",\"Coal \\u2192 Coal Electricity\\u003cbr\\u003eValue: 2666.1 TWh\",\"Natural Gas \\u2192 Gas Electricity\\u003cbr\\u003eValue: 1565.4 TWh\",\"Nuclear Fuel \\u2192 Nuclear Electricity\\u003cbr\\u003eValue: 2993.1 TWh\",\"Oil \\u2192 Oil Electricity\\u003cbr\\u003eValue: 340.1 TWh\",\"Renewable Resources \\u2192 Renewable Electricity\\u003cbr\\u003eValue: 348.8 TWh\",\"Natural Gas \\u2192 Residential Gas\\u003cbr\\u003eValue: 1433.3 TWh\",\"Oil \\u2192 Transport Fuel\\u003cbr\\u003eValue: 4125.4 TWh\",\"Coal Imports \\u2192 Coal\\u003cbr\\u003eValue: 1734.3 TWh\",\"Gas Imports \\u2192 Natural Gas\\u003cbr\\u003eValue: 1503.4 TWh\",\"Oil Imports \\u2192 Oil\\u003cbr\\u003eValue: 7091.1 TWh\",\"Coal Resources \\u2192 Coal\\u003cbr\\u003eValue: 1687.2 TWh\",\"Coal Resources \\u2192 Coal\\u003cbr\\u003eValue: 562.4 TWh\",\"Natural Gas Resources \\u2192 Natural Gas\\u003cbr\\u003eValue: 1097.2 TWh\",\"Natural Gas Resources \\u2192 Natural Gas\\u003cbr\\u003eValue: 1097.2 TWh\",\"Nuclear Resources \\u2192 Nuclear Fuel\\u003cbr\\u003eValue: 2993.1 TWh\",\"Oil Resources \\u2192 Oil\\u003cbr\\u003eValue: 1195.2 TWh\",\"Oil Resources \\u2192 Oil\\u003cbr\\u003eValue: 298.8 TWh\",\"Renewable Resources \\u2192 Renewable Electricity\\u003cbr\\u003eValue: 348.8 TWh\",\"Residential Gas \\u2192 Residential Heat\\u003cbr\\u003eValue: 1433.3 TWh\",\"Transport Fuel \\u2192 Transport\\u003cbr\\u003eValue: 4125.4 TWh\"],\"hovertemplate\":\"%{customdata}\\u003cextra\\u003e\\u003c\\u002fextra\\u003e\",\"source\":[7,12,17,10,2,11,14,7,25,9,7,25,13,9,19,25,9,20,23,8,22,22,24,24,1,0,0,19,21,27],\"target\":[5,18,12,12,12,12,12,6,15,26,10,2,11,14,17,21,27,7,25,9,7,7,25,25,13,9,9,16,3,4],\"value\":[999.1135770680002,2895.2620384300003,348.803612376,1023.8002857062402,771.6005166132492,987.722781844263,85.03062393802713,318.630532682,698.9813925180001,4119.631629036,2666.146577359995,1565.4301412319917,2993.0993389220002,340.1224957521095,348.80361237600005,1433.2769799540001,4125.350244722001,1734.3449985859945,1503.3820360379918,7091.072063174113,1687.1592663930003,562.386422131,1097.1532388330002,1097.1532388330002,2993.0993389220002,1195.2258450688,298.8064612672,348.80361237600005,1433.2769799540001,4125.350244722001]},\"name\":\"Year 2005\",\"node\":{\"color\":[\"rgba(0,0,0,0.8)\",\"rgba(255,0,0,0.8)\",\"rgba(0,0,255,0.8)\",\"rgba(128,128,128,0.8)\",\"rgba(0,0,0,0.8)\",\"rgba(128,128,128,0.8)\",\"rgba(139,69,19,0.8)\",\"rgba(139,69,19,0.8)\",\"rgba(0,0,0,0.8)\",\"rgba(0,0,0,0.8)\",\"rgba(255,255,0,0.8)\",\"rgba(255,255,0,0.8)\",\"rgba(255,255,0,0.8)\",\"rgba(255,0,0,0.8)\",\"rgba(0,0,0,0.8)\",\"rgba(0,0,255,0.8)\",\"rgba(0,255,0,0.8)\",\"rgba(0,255,0,0.8)\",\"rgba(255,255,0,0.8)\",\"rgba(0,255,0,0.8)\",\"rgba(139,69,19,0.8)\",\"rgba(0,0,255,0.8)\",\"rgba(139,69,19,0.8)\",\"rgba(0,0,255,0.8)\",\"rgba(0,0,255,0.8)\",\"rgba(0,0,255,0.8)\",\"rgba(0,0,0,0.8)\",\"rgba(0,0,0,0.8)\"],\"hovertemplate\":\"%{label}\\u003cbr\\u003eUnits: TWh\\u003cextra\\u003e\\u003c\\u002fextra\\u003e\",\"label\":[\"Oil Resources\",\"Nuclear Resources\",\"Gas Electricity\",\"Residential Heat\",\"Transport\",\"Industrial Demand\",\"Coal Exports\",\"Coal\",\"Oil Imports\",\"Oil\",\"Coal Electricity\",\"Nuclear Electricity\",\"Electricity\",\"Nuclear Fuel\",\"Oil Electricity\",\"Gas Exports\",\"Renewable Electricity\",\"Renewable Electricity\",\"Electricity Demand\",\"Renewable Resources\",\"Coal Imports\",\"Residential Gas\",\"Coal Resources\",\"Gas Imports\",\"Natural Gas Resources\",\"Natural Gas\",\"Oil Exports\",\"Transport Fuel\"]},\"visible\":true,\"type\":\"sankey\"},{\"link\":{\"color\":[\"rgba(180,180,180,0.6)\",\"rgba(180,180,180,0.6)\",\"rgba(180,180,180,0.6)\",\"rgba(180,180,180,0.6)\",\"rgba(180,180,180,0.6)\",\"rgba(180,180,180,0.6)\",\"rgba(100,100,100,0.6)\",\"rgba(180,180,180,0.6)\",\"rgba(180,180,180,0.6)\",\"rgba(180,180,180,0.6)\",\"rgba(180,180,180,0.6)\",\"rgba(180,180,180,0.6)\",\"rgba(180,180,180,0.6)\",\"rgba(180,180,180,0.6)\",\"rgba(180,180,180,0.6)\",\"rgba(180,180,180,0.6)\",\"rgba(180,180,180,0.6)\",\"rgba(180,180,180,0.6)\",\"rgba(180,180,180,0.6)\",\"rgba(180,180,180,0.6)\",\"rgba(180,180,180,0.6)\",\"rgba(180,180,180,0.6)\",\"rgba(180,180,180,0.6)\",\"rgba(180,180,180,0.6)\",\"rgba(180,180,180,0.6)\",\"rgba(180,180,180,0.6)\",\"rgba(180,180,180,0.6)\",\"rgba(180,180,180,0.6)\",\"rgba(100,100,100,0.6)\",\"rgba(180,180,180,0.6)\",\"rgba(100,100,100,0.6)\"],\"customdata\":[\"Coal \\u2192 Industrial Demand\\u003cbr\\u003eValue: 999.1 TWh\",\"Electricity \\u2192 Electricity Demand\\u003cbr\\u003eValue: 2924.2 TWh\",\"Renewable Electricity \\u2192 Electricity\\u003cbr\\u003eValue: 348.8 TWh\",\"Coal Electricity \\u2192 Electricity\\u003cbr\\u003eValue: 989.7 TWh\",\"Gas Electricity \\u2192 Electricity\\u003cbr\\u003eValue: 733.0 TWh\",\"Nuclear Electricity \\u2192 Electricity\\u003cbr\\u003eValue: 987.7 TWh\",\"Coal Electricity \\u2192 Electricity\\u003cbr\\u003eValue: 189.9 TWh\",\"Coal \\u2192 Coal Exports\\u003cbr\\u003eValue: 318.6 TWh\",\"Natural Gas \\u2192 Gas Exports\\u003cbr\\u003eValue: 699.0 TWh\",\"Oil \\u2192 Oil Exports\\u003cbr\\u003eValue: 4119.6 TWh\",\"Coal \\u2192 Coal Electricity\\u003cbr\\u003eValue: 3029.4 TWh\",\"Natural Gas \\u2192 Gas Electricity\\u003cbr\\u003eValue: 1487.2 TWh\",\"Nuclear Fuel \\u2192 Nuclear Electricity\\u003cbr\\u003eValue: 2993.1 TWh\",\"Renewable Resources \\u2192 Renewable Electricity\\u003cbr\\u003eValue: 348.8 TWh\",\"Natural Gas \\u2192 Residential Gas\\u003cbr\\u003eValue: 1411.5 TWh\",\"Oil \\u2192 Transport Fuel\\u003cbr\\u003eValue: 4091.2 TWh\",\"Coal Imports \\u2192 Coal\\u003cbr\\u003eValue: 2097.6 TWh\",\"Gas Imports \\u2192 Natural Gas\\u003cbr\\u003eValue: 1403.4 TWh\",\"Oil Imports \\u2192 Oil\\u003cbr\\u003eValue: 6716.8 TWh\",\"Coal Resources \\u2192 Coal\\u003cbr\\u003eValue: 1687.2 TWh\",\"Coal Resources \\u2192 Coal\\u003cbr\\u003eValue: 562.4 TWh\",\"Natural Gas Resources \\u2192 Natural Gas\\u003cbr\\u003eValue: 1097.2 TWh\",\"Natural Gas Resources \\u2192 Natural Gas\\u003cbr\\u003eValue: 1097.2 TWh\",\"Nuclear Resources \\u2192 Nuclear Fuel\\u003cbr\\u003eValue: 2993.1 TWh\",\"Oil Resources \\u2192 Oil\\u003cbr\\u003eValue: 1195.2 TWh\",\"Oil Resources \\u2192 Oil\\u003cbr\\u003eValue: 298.8 TWh\",\"Renewable Resources \\u2192 Renewable Electricity\\u003cbr\\u003eValue: 348.8 TWh\",\"Residential Gas \\u2192 Residential Heat\\u003cbr\\u003eValue: 1302.8 TWh\",\"Residential Gas \\u2192 Residential Heat\\u003cbr\\u003eValue: 130.4 TWh\",\"Transport Fuel \\u2192 Transport\\u003cbr\\u003eValue: 3749.9 TWh\",\"Transport Fuel \\u2192 Transport\\u003cbr\\u003eValue: 375.4 TWh\"],\"hovertemplate\":\"%{customdata}\\u003cextra\\u003e\\u003c\\u002fextra\\u003e\",\"source\":[7,12,16,10,2,11,10,7,24,9,7,24,13,18,24,9,19,22,8,21,21,23,23,1,0,0,18,20,20,26,26],\"target\":[5,17,12,12,12,12,12,6,14,25,10,2,11,16,20,26,7,24,9,7,7,24,24,13,9,9,15,3,3,4,4],\"value\":[999.1135770680002,2924.2146588143,348.80361237600005,989.6736095160293,733.0204907825865,987.722781844263,189.90690416367488,318.630532682,698.9813925180001,4119.631629036,3029.4343204091288,1487.1586341703946,2993.0993389220002,348.80361237600005,1411.538945758031,4091.222347242927,2097.632741635126,1403.3724947804228,6716.821669942926,1687.1592663930003,562.386422131,1097.1532388330002,1097.1532388330002,2993.0993389220002,1195.2258450688,298.8064612672,348.80361237600005,1302.848774778186,130.42820517581512,3749.9433724522987,375.4068722696909]},\"name\":\"Year 2006\",\"node\":{\"color\":[\"rgba(0,0,0,0.8)\",\"rgba(255,0,0,0.8)\",\"rgba(0,0,255,0.8)\",\"rgba(128,128,128,0.8)\",\"rgba(0,0,0,0.8)\",\"rgba(128,128,128,0.8)\",\"rgba(139,69,19,0.8)\",\"rgba(139,69,19,0.8)\",\"rgba(0,0,0,0.8)\",\"rgba(0,0,0,0.8)\",\"rgba(255,255,0,0.8)\",\"rgba(255,255,0,0.8)\",\"rgba(255,255,0,0.8)\",\"rgba(255,0,0,0.8)\",\"rgba(0,0,255,0.8)\",\"rgba(0,255,0,0.8)\",\"rgba(0,255,0,0.8)\",\"rgba(255,255,0,0.8)\",\"rgba(0,255,0,0.8)\",\"rgba(139,69,19,0.8)\",\"rgba(0,0,255,0.8)\",\"rgba(139,69,19,0.8)\",\"rgba(0,0,255,0.8)\",\"rgba(0,0,255,0.8)\",\"rgba(0,0,255,0.8)\",\"rgba(0,0,0,0.8)\",\"rgba(0,0,0,0.8)\"],\"hovertemplate\":\"%{label}\\u003cbr\\u003eUnits: TWh\\u003cextra\\u003e\\u003c\\u002fextra\\u003e\",\"label\":[\"Oil Resources\",\"Nuclear Resources\",\"Gas Electricity\",\"Residential Heat\",\"Transport\",\"Industrial Demand\",\"Coal Exports\",\"Coal\",\"Oil Imports\",\"Oil\",\"Coal Electricity\",\"Nuclear Electricity\",\"Electricity\",\"Nuclear Fuel\",\"Gas Exports\",\"Renewable Electricity\",\"Renewable Electricity\",\"Electricity Demand\",\"Renewable Resources\",\"Coal Imports\",\"Residential Gas\",\"Coal Resources\",\"Gas Imports\",\"Natural Gas Resources\",\"Natural Gas\",\"Oil Exports\",\"Transport Fuel\"]},\"visible\":false,\"type\":\"sankey\"},{\"link\":{\"color\":[\"rgba(180,180,180,0.6)\",\"rgba(180,180,180,0.6)\",\"rgba(180,180,180,0.6)\",\"rgba(180,180,180,0.6)\",\"rgba(180,180,180,0.6)\",\"rgba(180,180,180,0.6)\",\"rgba(100,100,100,0.6)\",\"rgba(100,100,100,0.6)\",\"rgba(180,180,180,0.6)\",\"rgba(180,180,180,0.6)\",\"rgba(180,180,180,0.6)\",\"rgba(180,180,180,0.6)\",\"rgba(180,180,180,0.6)\",\"rgba(180,180,180,0.6)\",\"rgba(180,180,180,0.6)\",\"rgba(180,180,180,0.6)\",\"rgba(180,180,180,0.6)\",\"rgba(180,180,180,0.6)\",\"rgba(180,180,180,0.6)\",\"rgba(180,180,180,0.6)\",\"rgba(180,180,180,0.6)\",\"rgba(180,180,180,0.6)\",\"rgba(180,180,180,0.6)\",\"rgba(180,180,180,0.6)\",\"rgba(180,180,180,0.6)\",\"rgba(180,180,180,0.6)\",\"rgba(180,180,180,0.6)\",\"rgba(180,180,180,0.6)\",\"rgba(180,180,180,0.6)\",\"rgba(100,100,100,0.6)\",\"rgba(180,180,180,0.6)\",\"rgba(100,100,100,0.6)\"],\"customdata\":[\"Coal \\u2192 Industrial Demand\\u003cbr\\u003eValue: 999.1 TWh\",\"Electricity \\u2192 Electricity Demand\\u003cbr\\u003eValue: 3042.9 TWh\",\"Renewable Electricity \\u2192 Electricity\\u003cbr\\u003eValue: 348.8 TWh\",\"Coal Electricity \\u2192 Electricity\\u003cbr\\u003eValue: 853.2 TWh\",\"Gas Electricity \\u2192 Electricity\\u003cbr\\u003eValue: 578.7 TWh\",\"Nuclear Electricity \\u2192 Electricity\\u003cbr\\u003eValue: 987.7 TWh\",\"Coal Electricity \\u2192 Electricity\\u003cbr\\u003eValue: 520.4 TWh\",\"Gas Electricity \\u2192 Electricity\\u003cbr\\u003eValue: 92.3 TWh\",\"Coal \\u2192 Coal Exports\\u003cbr\\u003eValue: 318.6 TWh\",\"Natural Gas \\u2192 Gas Exports\\u003cbr\\u003eValue: 699.0 TWh\",\"Oil \\u2192 Oil Exports\\u003cbr\\u003eValue: 4119.6 TWh\",\"Coal \\u2192 Coal Electricity\\u003cbr\\u003eValue: 3460.8 TWh\",\"Natural Gas \\u2192 Gas Electricity\\u003cbr\\u003eValue: 1351.5 TWh\",\"Nuclear Fuel \\u2192 Nuclear Electricity\\u003cbr\\u003eValue: 2993.1 TWh\",\"Renewable Resources \\u2192 Renewable Electricity\\u003cbr\\u003eValue: 348.8 TWh\",\"Natural Gas \\u2192 Residential Gas\\u003cbr\\u003eValue: 1315.0 TWh\",\"Oil \\u2192 Transport Fuel\\u003cbr\\u003eValue: 3939.7 TWh\",\"Coal Imports \\u2192 Coal\\u003cbr\\u003eValue: 2529.0 TWh\",\"Gas Imports \\u2192 Natural Gas\\u003cbr\\u003eValue: 2737.7 TWh\",\"Oil Imports \\u2192 Oil\\u003cbr\\u003eValue: 7289.1 TWh\",\"Coal Resources \\u2192 Coal\\u003cbr\\u003eValue: 1687.2 TWh\",\"Coal Resources \\u2192 Coal\\u003cbr\\u003eValue: 562.4 TWh\",\"Natural Gas Resources \\u2192 Natural Gas\\u003cbr\\u003eValue: 175.0 TWh\",\"Natural Gas Resources \\u2192 Natural Gas\\u003cbr\\u003eValue: 452.8 TWh\",\"Nuclear Resources \\u2192 Nuclear Fuel\\u003cbr\\u003eValue: 2993.1 TWh\",\"Oil Resources \\u2192 Oil\\u003cbr\\u003eValue: 616.2 TWh\",\"Oil Resources \\u2192 Oil\\u003cbr\\u003eValue: 154.0 TWh\",\"Renewable Resources \\u2192 Renewable Electricity\\u003cbr\\u003eValue: 348.8 TWh\",\"Residential Gas \\u2192 Residential Heat\\u003cbr\\u003eValue: 723.8 TWh\",\"Residential Gas \\u2192 Residential Heat\\u003cbr\\u003eValue: 709.5 TWh\",\"Transport Fuel \\u2192 Transport\\u003cbr\\u003eValue: 2083.3 TWh\",\"Transport Fuel \\u2192 Transport\\u003cbr\\u003eValue: 2042.0 TWh\"],\"hovertemplate\":\"%{customdata}\\u003cextra\\u003e\\u003c\\u002fextra\\u003e\",\"source\":[7,12,16,10,2,11,10,2,7,24,9,7,24,13,18,24,9,19,22,8,21,21,23,23,1,0,0,18,20,20,26,26],\"target\":[5,17,12,12,12,12,12,12,6,14,25,10,2,11,16,20,26,7,24,9,7,7,24,24,13,9,9,15,3,3,4,4],\"value\":[999.1135770680002,3042.9495000629304,348.80361237600005,853.1669047552001,578.7003874599371,987.722781844263,520.3976887869969,92.26362484752707,318.630532682,698.9813925180001,4119.631629036,3460.830930626169,1351.5026537077,2993.0993389220002,348.80361237600005,1315.0316291077952,3939.7094837095106,2529.02935185218,2737.653561933098,7289.092496547111,1687.1592663930003,562.386422131,175.04205670020002,452.82005670020004,2993.0993389220002,616.1988929587201,154.04972323968002,348.80361237600005,723.80487487677,709.47210507723,2083.301873584616,2042.0483711373847]},\"name\":\"Year 2010\",\"node\":{\"color\":[\"rgba(0,0,0,0.8)\",\"rgba(255,0,0,0.8)\",\"rgba(0,0,255,0.8)\",\"rgba(128,128,128,0.8)\",\"rgba(0,0,0,0.8)\",\"rgba(128,128,128,0.8)\",\"rgba(139,69,19,0.8)\",\"rgba(139,69,19,0.8)\",\"rgba(0,0,0,0.8)\",\"rgba(0,0,0,0.8)\",\"rgba(255,255,0,0.8)\",\"rgba(255,255,0,0.8)\",\"rgba(255,255,0,0.8)\",\"rgba(255,0,0,0.8)\",\"rgba(0,0,255,0.8)\",\"rgba(0,255,0,0.8)\",\"rgba(0,255,0,0.8)\",\"rgba(255,255,0,0.8)\",\"rgba(0,255,0,0.8)\",\"rgba(139,69,19,0.8)\",\"rgba(0,0,255,0.8)\",\"rgba(139,69,19,0.8)\",\"rgba(0,0,255,0.8)\",\"rgba(0,0,255,0.8)\",\"rgba(0,0,255,0.8)\",\"rgba(0,0,0,0.8)\",\"rgba(0,0,0,0.8)\"],\"hovertemplate\":\"%{label}\\u003cbr\\u003eUnits: TWh\\u003cextra\\u003e\\u003c\\u002fextra\\u003e\",\"label\":[\"Oil Resources\",\"Nuclear Resources\",\"Gas Electricity\",\"Residential Heat\",\"Transport\",\"Industrial Demand\",\"Coal Exports\",\"Coal\",\"Oil Imports\",\"Oil\",\"Coal Electricity\",\"Nuclear Electricity\",\"Electricity\",\"Nuclear Fuel\",\"Gas Exports\",\"Renewable Electricity\",\"Renewable Electricity\",\"Electricity Demand\",\"Renewable Resources\",\"Coal Imports\",\"Residential Gas\",\"Coal Resources\",\"Gas Imports\",\"Natural Gas Resources\",\"Natural Gas\",\"Oil Exports\",\"Transport Fuel\"]},\"visible\":false,\"type\":\"sankey\"},{\"link\":{\"color\":[\"rgba(180,180,180,0.6)\",\"rgba(180,180,180,0.6)\",\"rgba(180,180,180,0.6)\",\"rgba(180,180,180,0.6)\",\"rgba(180,180,180,0.6)\",\"rgba(180,180,180,0.6)\",\"rgba(100,100,100,0.6)\",\"rgba(100,100,100,0.6)\",\"rgba(180,180,180,0.6)\",\"rgba(180,180,180,0.6)\",\"rgba(180,180,180,0.6)\",\"rgba(180,180,180,0.6)\",\"rgba(180,180,180,0.6)\",\"rgba(180,180,180,0.6)\",\"rgba(180,180,180,0.6)\",\"rgba(180,180,180,0.6)\",\"rgba(180,180,180,0.6)\",\"rgba(180,180,180,0.6)\",\"rgba(180,180,180,0.6)\",\"rgba(180,180,180,0.6)\",\"rgba(180,180,180,0.6)\",\"rgba(180,180,180,0.6)\",\"rgba(180,180,180,0.6)\",\"rgba(180,180,180,0.6)\",\"rgba(100,100,100,0.6)\",\"rgba(100,100,100,0.6)\"],\"customdata\":[\"Coal \\u2192 Industrial Demand\\u003cbr\\u003eValue: 999.1 TWh\",\"Electricity \\u2192 Electricity Demand\\u003cbr\\u003eValue: 3198.2 TWh\",\"Renewable Electricity \\u2192 Electricity\\u003cbr\\u003eValue: 348.8 TWh\",\"Coal Electricity \\u2192 Electricity\\u003cbr\\u003eValue: 682.5 TWh\",\"Gas Electricity \\u2192 Electricity\\u003cbr\\u003eValue: 385.8 TWh\",\"Nuclear Electricity \\u2192 Electricity\\u003cbr\\u003eValue: 987.7 TWh\",\"Coal Electricity \\u2192 Electricity\\u003cbr\\u003eValue: 727.2 TWh\",\"Gas Electricity \\u2192 Electricity\\u003cbr\\u003eValue: 421.5 TWh\",\"Coal \\u2192 Coal Exports\\u003cbr\\u003eValue: 318.6 TWh\",\"Natural Gas \\u2192 Gas Exports\\u003cbr\\u003eValue: 699.0 TWh\",\"Oil \\u2192 Oil Exports\\u003cbr\\u003eValue: 4119.6 TWh\",\"Coal \\u2192 Coal Electricity\\u003cbr\\u003eValue: 3508.8 TWh\",\"Natural Gas \\u2192 Gas Electricity\\u003cbr\\u003eValue: 1593.3 TWh\",\"Nuclear Fuel \\u2192 Nuclear Electricity\\u003cbr\\u003eValue: 2993.1 TWh\",\"Renewable Resources \\u2192 Renewable Electricity\\u003cbr\\u003eValue: 348.8 TWh\",\"Natural Gas \\u2192 Residential Gas\\u003cbr\\u003eValue: 1194.4 TWh\",\"Oil \\u2192 Transport Fuel\\u003cbr\\u003eValue: 3750.3 TWh\",\"Coal Imports \\u2192 Coal\\u003cbr\\u003eValue: 2577.0 TWh\",\"Gas Imports \\u2192 Natural Gas\\u003cbr\\u003eValue: 3486.6 TWh\",\"Oil Imports \\u2192 Oil\\u003cbr\\u003eValue: 7870.0 TWh\",\"Coal Resources \\u2192 Coal\\u003cbr\\u003eValue: 1687.2 TWh\",\"Coal Resources \\u2192 Coal\\u003cbr\\u003eValue: 562.4 TWh\",\"Nuclear Resources \\u2192 Nuclear Fuel\\u003cbr\\u003eValue: 2993.1 TWh\",\"Renewable Resources \\u2192 Renewable Electricity\\u003cbr\\u003eValue: 348.8 TWh\",\"Residential Gas \\u2192 Residential Heat\\u003cbr\\u003eValue: 1433.3 TWh\",\"Transport Fuel \\u2192 Transport\\u003cbr\\u003eValue: 4125.4 TWh\"],\"hovertemplate\":\"%{customdata}\\u003cextra\\u003e\\u003c\\u002fextra\\u003e\",\"source\":[6,11,15,9,1,10,9,1,6,22,8,6,22,12,17,22,8,18,21,7,20,20,0,17,19,24],\"target\":[4,16,11,11,11,11,11,11,5,13,23,9,1,10,15,19,24,6,22,8,6,6,12,14,2,3],\"value\":[999.1135770680002,3198.170506512914,348.80361237600005,682.5335238041573,385.80025830662476,987.722781844263,727.1843167153714,421.4782919679305,318.630532682,698.9813925180001,4119.631629036,3508.8222818480244,1593.2502474774005,2993.0993389220002,348.80361237600005,1194.3974832950003,3750.31840429274,2577.0207030740244,3486.629123290401,7869.950033328741,1687.1592663930003,562.386422131,2993.0993389220002,348.80361237600005,1433.2769799540001,4125.350244722001]},\"name\":\"Year 2015\",\"node\":{\"color\":[\"rgba(255,0,0,0.8)\",\"rgba(0,0,255,0.8)\",\"rgba(128,128,128,0.8)\",\"rgba(0,0,0,0.8)\",\"rgba(128,128,128,0.8)\",\"rgba(139,69,19,0.8)\",\"rgba(139,69,19,0.8)\",\"rgba(0,0,0,0.8)\",\"rgba(0,0,0,0.8)\",\"rgba(255,255,0,0.8)\",\"rgba(255,255,0,0.8)\",\"rgba(255,255,0,0.8)\",\"rgba(255,0,0,0.8)\",\"rgba(0,0,255,0.8)\",\"rgba(0,255,0,0.8)\",\"rgba(0,255,0,0.8)\",\"rgba(255,255,0,0.8)\",\"rgba(0,255,0,0.8)\",\"rgba(139,69,19,0.8)\",\"rgba(0,0,255,0.8)\",\"rgba(139,69,19,0.8)\",\"rgba(0,0,255,0.8)\",\"rgba(0,0,255,0.8)\",\"rgba(0,0,0,0.8)\",\"rgba(0,0,0,0.8)\"],\"hovertemplate\":\"%{label}\\u003cbr\\u003eUnits: TWh\\u003cextra\\u003e\\u003c\\u002fextra\\u003e\",\"label\":[\"Nuclear Resources\",\"Gas Electricity\",\"Residential Heat\",\"Transport\",\"Industrial Demand\",\"Coal Exports\",\"Coal\",\"Oil Imports\",\"Oil\",\"Coal Electricity\",\"Nuclear Electricity\",\"Electricity\",\"Nuclear Fuel\",\"Gas Exports\",\"Renewable Electricity\",\"Renewable Electricity\",\"Electricity Demand\",\"Renewable Resources\",\"Coal Imports\",\"Residential Gas\",\"Coal Resources\",\"Gas Imports\",\"Natural Gas\",\"Oil Exports\",\"Transport Fuel\"]},\"visible\":false,\"type\":\"sankey\"},{\"link\":{\"color\":[\"rgba(180,180,180,0.6)\",\"rgba(180,180,180,0.6)\",\"rgba(180,180,180,0.6)\",\"rgba(180,180,180,0.6)\",\"rgba(180,180,180,0.6)\",\"rgba(180,180,180,0.6)\",\"rgba(100,100,100,0.6)\",\"rgba(100,100,100,0.6)\",\"rgba(180,180,180,0.6)\",\"rgba(180,180,180,0.6)\",\"rgba(180,180,180,0.6)\",\"rgba(180,180,180,0.6)\",\"rgba(180,180,180,0.6)\",\"rgba(180,180,180,0.6)\",\"rgba(180,180,180,0.6)\",\"rgba(180,180,180,0.6)\",\"rgba(180,180,180,0.6)\",\"rgba(180,180,180,0.6)\",\"rgba(180,180,180,0.6)\",\"rgba(180,180,180,0.6)\",\"rgba(180,180,180,0.6)\",\"rgba(180,180,180,0.6)\",\"rgba(180,180,180,0.6)\",\"rgba(180,180,180,0.6)\",\"rgba(100,100,100,0.6)\",\"rgba(100,100,100,0.6)\"],\"customdata\":[\"Coal \\u2192 Industrial Demand\\u003cbr\\u003eValue: 999.1 TWh\",\"Electricity \\u2192 Electricity Demand\\u003cbr\\u003eValue: 3361.3 TWh\",\"Renewable Electricity \\u2192 Electricity\\u003cbr\\u003eValue: 348.8 TWh\",\"Coal Electricity \\u2192 Electricity\\u003cbr\\u003eValue: 511.9 TWh\",\"Gas Electricity \\u2192 Electricity\\u003cbr\\u003eValue: 192.9 TWh\",\"Nuclear Electricity \\u2192 Electricity\\u003cbr\\u003eValue: 987.7 TWh\",\"Coal Electricity \\u2192 Electricity\\u003cbr\\u003eValue: 935.8 TWh\",\"Gas Electricity \\u2192 Electricity\\u003cbr\\u003eValue: 757.6 TWh\",\"Coal \\u2192 Coal Exports\\u003cbr\\u003eValue: 318.6 TWh\",\"Natural Gas \\u2192 Gas Exports\\u003cbr\\u003eValue: 699.0 TWh\",\"Oil \\u2192 Oil Exports\\u003cbr\\u003eValue: 4119.6 TWh\",\"Coal \\u2192 Coal Electricity\\u003cbr\\u003eValue: 3561.2 TWh\",\"Natural Gas \\u2192 Gas Electricity\\u003cbr\\u003eValue: 1848.4 TWh\",\"Nuclear Fuel \\u2192 Nuclear Electricity\\u003cbr\\u003eValue: 2993.1 TWh\",\"Renewable Resources \\u2192 Renewable Electricity\\u003cbr\\u003eValue: 348.8 TWh\",\"Natural Gas \\u2192 Residential Gas\\u003cbr\\u003eValue: 1194.4 TWh\",\"Oil \\u2192 Transport Fuel\\u003cbr\\u003eValue: 3750.3 TWh\",\"Coal Imports \\u2192 Coal\\u003cbr\\u003eValue: 4258.7 TWh\",\"Gas Imports \\u2192 Natural Gas\\u003cbr\\u003eValue: 3741.7 TWh\",\"Oil Imports \\u2192 Oil\\u003cbr\\u003eValue: 7870.0 TWh\",\"Coal Resources \\u2192 Coal\\u003cbr\\u003eValue: 57.8 TWh\",\"Coal Resources \\u2192 Coal\\u003cbr\\u003eValue: 562.4 TWh\",\"Nuclear Resources \\u2192 Nuclear Fuel\\u003cbr\\u003eValue: 2993.1 TWh\",\"Renewable Resources \\u2192 Renewable Electricity\\u003cbr\\u003eValue: 348.8 TWh\",\"Residential Gas \\u2192 Residential Heat\\u003cbr\\u003eValue: 1433.3 TWh\",\"Transport Fuel \\u2192 Transport\\u003cbr\\u003eValue: 4125.4 TWh\"],\"hovertemplate\":\"%{customdata}\\u003cextra\\u003e\\u003c\\u002fextra\\u003e\",\"source\":[6,11,15,9,1,10,9,1,6,22,8,6,22,12,17,22,8,18,21,7,20,20,0,17,19,24],\"target\":[4,16,11,11,11,11,11,11,5,13,23,9,1,10,15,19,24,6,22,8,6,6,12,14,2,3],\"value\":[999.1135770680002,3361.309344278491,348.80361237600005,511.9001428531181,192.9001291533121,987.722781844263,935.8151235833417,757.6463704993994,318.630532682,698.9813925180001,4119.631629036,3561.204535306988,1848.3697862683823,2993.0993389220002,348.80361237600005,1194.3974832950003,3750.31840429274,4258.728315547788,3741.748662081369,7869.950033328741,57.8339073782,562.386422131,2993.0993389220002,348.80361237600005,1433.2769799540001,4125.350244722001]},\"name\":\"Year 2020\",\"node\":{\"color\":[\"rgba(255,0,0,0.8)\",\"rgba(0,0,255,0.8)\",\"rgba(128,128,128,0.8)\",\"rgba(0,0,0,0.8)\",\"rgba(128,128,128,0.8)\",\"rgba(139,69,19,0.8)\",\"rgba(139,69,19,0.8)\",\"rgba(0,0,0,0.8)\",\"rgba(0,0,0,0.8)\",\"rgba(255,255,0,0.8)\",\"rgba(255,255,0,0.8)\",\"rgba(255,255,0,0.8)\",\"rgba(255,0,0,0.8)\",\"rgba(0,0,255,0.8)\",\"rgba(0,255,0,0.8)\",\"rgba(0,255,0,0.8)\",\"rgba(255,255,0,0.8)\",\"rgba(0,255,0,0.8)\",\"rgba(139,69,19,0.8)\",\"rgba(0,0,255,0.8)\",\"rgba(139,69,19,0.8)\",\"rgba(0,0,255,0.8)\",\"rgba(0,0,255,0.8)\",\"rgba(0,0,0,0.8)\",\"rgba(0,0,0,0.8)\"],\"hovertemplate\":\"%{label}\\u003cbr\\u003eUnits: TWh\\u003cextra\\u003e\\u003c\\u002fextra\\u003e\",\"label\":[\"Nuclear Resources\",\"Gas Electricity\",\"Residential Heat\",\"Transport\",\"Industrial Demand\",\"Coal Exports\",\"Coal\",\"Oil Imports\",\"Oil\",\"Coal Electricity\",\"Nuclear Electricity\",\"Electricity\",\"Nuclear Fuel\",\"Gas Exports\",\"Renewable Electricity\",\"Renewable Electricity\",\"Electricity Demand\",\"Renewable Resources\",\"Coal Imports\",\"Residential Gas\",\"Coal Resources\",\"Gas Imports\",\"Natural Gas\",\"Oil Exports\",\"Transport Fuel\"]},\"visible\":false,\"type\":\"sankey\"}],                        {\"template\":{\"data\":{\"histogram2dcontour\":[{\"type\":\"histogram2dcontour\",\"colorbar\":{\"outlinewidth\":0,\"ticks\":\"\"},\"colorscale\":[[0.0,\"#0d0887\"],[0.1111111111111111,\"#46039f\"],[0.2222222222222222,\"#7201a8\"],[0.3333333333333333,\"#9c179e\"],[0.4444444444444444,\"#bd3786\"],[0.5555555555555556,\"#d8576b\"],[0.6666666666666666,\"#ed7953\"],[0.7777777777777778,\"#fb9f3a\"],[0.8888888888888888,\"#fdca26\"],[1.0,\"#f0f921\"]]}],\"choropleth\":[{\"type\":\"choropleth\",\"colorbar\":{\"outlinewidth\":0,\"ticks\":\"\"}}],\"histogram2d\":[{\"type\":\"histogram2d\",\"colorbar\":{\"outlinewidth\":0,\"ticks\":\"\"},\"colorscale\":[[0.0,\"#0d0887\"],[0.1111111111111111,\"#46039f\"],[0.2222222222222222,\"#7201a8\"],[0.3333333333333333,\"#9c179e\"],[0.4444444444444444,\"#bd3786\"],[0.5555555555555556,\"#d8576b\"],[0.6666666666666666,\"#ed7953\"],[0.7777777777777778,\"#fb9f3a\"],[0.8888888888888888,\"#fdca26\"],[1.0,\"#f0f921\"]]}],\"heatmap\":[{\"type\":\"heatmap\",\"colorbar\":{\"outlinewidth\":0,\"ticks\":\"\"},\"colorscale\":[[0.0,\"#0d0887\"],[0.1111111111111111,\"#46039f\"],[0.2222222222222222,\"#7201a8\"],[0.3333333333333333,\"#9c179e\"],[0.4444444444444444,\"#bd3786\"],[0.5555555555555556,\"#d8576b\"],[0.6666666666666666,\"#ed7953\"],[0.7777777777777778,\"#fb9f3a\"],[0.8888888888888888,\"#fdca26\"],[1.0,\"#f0f921\"]]}],\"contourcarpet\":[{\"type\":\"contourcarpet\",\"colorbar\":{\"outlinewidth\":0,\"ticks\":\"\"}}],\"contour\":[{\"type\":\"contour\",\"colorbar\":{\"outlinewidth\":0,\"ticks\":\"\"},\"colorscale\":[[0.0,\"#0d0887\"],[0.1111111111111111,\"#46039f\"],[0.2222222222222222,\"#7201a8\"],[0.3333333333333333,\"#9c179e\"],[0.4444444444444444,\"#bd3786\"],[0.5555555555555556,\"#d8576b\"],[0.6666666666666666,\"#ed7953\"],[0.7777777777777778,\"#fb9f3a\"],[0.8888888888888888,\"#fdca26\"],[1.0,\"#f0f921\"]]}],\"surface\":[{\"type\":\"surface\",\"colorbar\":{\"outlinewidth\":0,\"ticks\":\"\"},\"colorscale\":[[0.0,\"#0d0887\"],[0.1111111111111111,\"#46039f\"],[0.2222222222222222,\"#7201a8\"],[0.3333333333333333,\"#9c179e\"],[0.4444444444444444,\"#bd3786\"],[0.5555555555555556,\"#d8576b\"],[0.6666666666666666,\"#ed7953\"],[0.7777777777777778,\"#fb9f3a\"],[0.8888888888888888,\"#fdca26\"],[1.0,\"#f0f921\"]]}],\"mesh3d\":[{\"type\":\"mesh3d\",\"colorbar\":{\"outlinewidth\":0,\"ticks\":\"\"}}],\"scatter\":[{\"fillpattern\":{\"fillmode\":\"overlay\",\"size\":10,\"solidity\":0.2},\"type\":\"scatter\"}],\"parcoords\":[{\"type\":\"parcoords\",\"line\":{\"colorbar\":{\"outlinewidth\":0,\"ticks\":\"\"}}}],\"scatterpolargl\":[{\"type\":\"scatterpolargl\",\"marker\":{\"colorbar\":{\"outlinewidth\":0,\"ticks\":\"\"}}}],\"bar\":[{\"error_x\":{\"color\":\"#2a3f5f\"},\"error_y\":{\"color\":\"#2a3f5f\"},\"marker\":{\"line\":{\"color\":\"#E5ECF6\",\"width\":0.5},\"pattern\":{\"fillmode\":\"overlay\",\"size\":10,\"solidity\":0.2}},\"type\":\"bar\"}],\"scattergeo\":[{\"type\":\"scattergeo\",\"marker\":{\"colorbar\":{\"outlinewidth\":0,\"ticks\":\"\"}}}],\"scatterpolar\":[{\"type\":\"scatterpolar\",\"marker\":{\"colorbar\":{\"outlinewidth\":0,\"ticks\":\"\"}}}],\"histogram\":[{\"marker\":{\"pattern\":{\"fillmode\":\"overlay\",\"size\":10,\"solidity\":0.2}},\"type\":\"histogram\"}],\"scattergl\":[{\"type\":\"scattergl\",\"marker\":{\"colorbar\":{\"outlinewidth\":0,\"ticks\":\"\"}}}],\"scatter3d\":[{\"type\":\"scatter3d\",\"line\":{\"colorbar\":{\"outlinewidth\":0,\"ticks\":\"\"}},\"marker\":{\"colorbar\":{\"outlinewidth\":0,\"ticks\":\"\"}}}],\"scattermap\":[{\"type\":\"scattermap\",\"marker\":{\"colorbar\":{\"outlinewidth\":0,\"ticks\":\"\"}}}],\"scattermapbox\":[{\"type\":\"scattermapbox\",\"marker\":{\"colorbar\":{\"outlinewidth\":0,\"ticks\":\"\"}}}],\"scatterternary\":[{\"type\":\"scatterternary\",\"marker\":{\"colorbar\":{\"outlinewidth\":0,\"ticks\":\"\"}}}],\"scattercarpet\":[{\"type\":\"scattercarpet\",\"marker\":{\"colorbar\":{\"outlinewidth\":0,\"ticks\":\"\"}}}],\"carpet\":[{\"aaxis\":{\"endlinecolor\":\"#2a3f5f\",\"gridcolor\":\"white\",\"linecolor\":\"white\",\"minorgridcolor\":\"white\",\"startlinecolor\":\"#2a3f5f\"},\"baxis\":{\"endlinecolor\":\"#2a3f5f\",\"gridcolor\":\"white\",\"linecolor\":\"white\",\"minorgridcolor\":\"white\",\"startlinecolor\":\"#2a3f5f\"},\"type\":\"carpet\"}],\"table\":[{\"cells\":{\"fill\":{\"color\":\"#EBF0F8\"},\"line\":{\"color\":\"white\"}},\"header\":{\"fill\":{\"color\":\"#C8D4E3\"},\"line\":{\"color\":\"white\"}},\"type\":\"table\"}],\"barpolar\":[{\"marker\":{\"line\":{\"color\":\"#E5ECF6\",\"width\":0.5},\"pattern\":{\"fillmode\":\"overlay\",\"size\":10,\"solidity\":0.2}},\"type\":\"barpolar\"}],\"pie\":[{\"automargin\":true,\"type\":\"pie\"}]},\"layout\":{\"autotypenumbers\":\"strict\",\"colorway\":[\"#636efa\",\"#EF553B\",\"#00cc96\",\"#ab63fa\",\"#FFA15A\",\"#19d3f3\",\"#FF6692\",\"#B6E880\",\"#FF97FF\",\"#FECB52\"],\"font\":{\"color\":\"#2a3f5f\"},\"hovermode\":\"closest\",\"hoverlabel\":{\"align\":\"left\"},\"paper_bgcolor\":\"white\",\"plot_bgcolor\":\"#E5ECF6\",\"polar\":{\"bgcolor\":\"#E5ECF6\",\"angularaxis\":{\"gridcolor\":\"white\",\"linecolor\":\"white\",\"ticks\":\"\"},\"radialaxis\":{\"gridcolor\":\"white\",\"linecolor\":\"white\",\"ticks\":\"\"}},\"ternary\":{\"bgcolor\":\"#E5ECF6\",\"aaxis\":{\"gridcolor\":\"white\",\"linecolor\":\"white\",\"ticks\":\"\"},\"baxis\":{\"gridcolor\":\"white\",\"linecolor\":\"white\",\"ticks\":\"\"},\"caxis\":{\"gridcolor\":\"white\",\"linecolor\":\"white\",\"ticks\":\"\"}},\"coloraxis\":{\"colorbar\":{\"outlinewidth\":0,\"ticks\":\"\"}},\"colorscale\":{\"sequential\":[[0.0,\"#0d0887\"],[0.1111111111111111,\"#46039f\"],[0.2222222222222222,\"#7201a8\"],[0.3333333333333333,\"#9c179e\"],[0.4444444444444444,\"#bd3786\"],[0.5555555555555556,\"#d8576b\"],[0.6666666666666666,\"#ed7953\"],[0.7777777777777778,\"#fb9f3a\"],[0.8888888888888888,\"#fdca26\"],[1.0,\"#f0f921\"]],\"sequentialminus\":[[0.0,\"#0d0887\"],[0.1111111111111111,\"#46039f\"],[0.2222222222222222,\"#7201a8\"],[0.3333333333333333,\"#9c179e\"],[0.4444444444444444,\"#bd3786\"],[0.5555555555555556,\"#d8576b\"],[0.6666666666666666,\"#ed7953\"],[0.7777777777777778,\"#fb9f3a\"],[0.8888888888888888,\"#fdca26\"],[1.0,\"#f0f921\"]],\"diverging\":[[0,\"#8e0152\"],[0.1,\"#c51b7d\"],[0.2,\"#de77ae\"],[0.3,\"#f1b6da\"],[0.4,\"#fde0ef\"],[0.5,\"#f7f7f7\"],[0.6,\"#e6f5d0\"],[0.7,\"#b8e186\"],[0.8,\"#7fbc41\"],[0.9,\"#4d9221\"],[1,\"#276419\"]]},\"xaxis\":{\"gridcolor\":\"white\",\"linecolor\":\"white\",\"ticks\":\"\",\"title\":{\"standoff\":15},\"zerolinecolor\":\"white\",\"automargin\":true,\"zerolinewidth\":2},\"yaxis\":{\"gridcolor\":\"white\",\"linecolor\":\"white\",\"ticks\":\"\",\"title\":{\"standoff\":15},\"zerolinecolor\":\"white\",\"automargin\":true,\"zerolinewidth\":2},\"scene\":{\"xaxis\":{\"backgroundcolor\":\"#E5ECF6\",\"gridcolor\":\"white\",\"linecolor\":\"white\",\"showbackground\":true,\"ticks\":\"\",\"zerolinecolor\":\"white\",\"gridwidth\":2},\"yaxis\":{\"backgroundcolor\":\"#E5ECF6\",\"gridcolor\":\"white\",\"linecolor\":\"white\",\"showbackground\":true,\"ticks\":\"\",\"zerolinecolor\":\"white\",\"gridwidth\":2},\"zaxis\":{\"backgroundcolor\":\"#E5ECF6\",\"gridcolor\":\"white\",\"linecolor\":\"white\",\"showbackground\":true,\"ticks\":\"\",\"zerolinecolor\":\"white\",\"gridwidth\":2}},\"shapedefaults\":{\"line\":{\"color\":\"#2a3f5f\"}},\"annotationdefaults\":{\"arrowcolor\":\"#2a3f5f\",\"arrowhead\":0,\"arrowwidth\":1},\"geo\":{\"bgcolor\":\"white\",\"landcolor\":\"#E5ECF6\",\"subunitcolor\":\"white\",\"showland\":true,\"showlakes\":true,\"lakecolor\":\"white\"},\"title\":{\"x\":0.05},\"mapbox\":{\"style\":\"light\"}}},\"font\":{\"size\":12},\"title\":{\"text\":\"TIMES Energy Flow Diagram - 2005 (Units: TWh)\"},\"width\":1200,\"height\":800,\"updatemenus\":[{\"buttons\":[{\"args\":[{\"visible\":[true,false,false,false,false]},{\"title\":\"TIMES Energy Flow Diagram - 2005 (Units: TWh)\"}],\"label\":\"Year 2005\",\"method\":\"update\"},{\"args\":[{\"visible\":[false,true,false,false,false]},{\"title\":\"TIMES Energy Flow Diagram - 2006 (Units: TWh)\"}],\"label\":\"Year 2006\",\"method\":\"update\"},{\"args\":[{\"visible\":[false,false,true,false,false]},{\"title\":\"TIMES Energy Flow Diagram - 2010 (Units: TWh)\"}],\"label\":\"Year 2010\",\"method\":\"update\"},{\"args\":[{\"visible\":[false,false,false,true,false]},{\"title\":\"TIMES Energy Flow Diagram - 2015 (Units: TWh)\"}],\"label\":\"Year 2015\",\"method\":\"update\"},{\"args\":[{\"visible\":[false,false,false,false,true]},{\"title\":\"TIMES Energy Flow Diagram - 2020 (Units: TWh)\"}],\"label\":\"Year 2020\",\"method\":\"update\"},{\"args\":[{\"visible\":[true,true,true,true,true]},{\"title\":\"TIMES Energy Flow Diagram - All Years (Units: TWh)\"}],\"label\":\"Show All Years\",\"method\":\"update\"}],\"direction\":\"down\",\"showactive\":true,\"x\":0.9,\"xanchor\":\"right\",\"y\":1.02,\"yanchor\":\"top\"}]},                        {\"responsive\": true}                    ).then(function(){\n",
       "                            \n",
       "var gd = document.getElementById('fa689aad-f230-4196-87ee-13d1fd61a126');\n",
       "var x = new MutationObserver(function (mutations, observer) {{\n",
       "        var display = window.getComputedStyle(gd).display;\n",
       "        if (!display || display === 'none') {{\n",
       "            console.log([gd, 'removed!']);\n",
       "            Plotly.purge(gd);\n",
       "            observer.disconnect();\n",
       "        }}\n",
       "}});\n",
       "\n",
       "// Listen for the removal of the full notebook cells\n",
       "var notebookContainer = gd.closest('#notebook-container');\n",
       "if (notebookContainer) {{\n",
       "    x.observe(notebookContainer, {childList: true});\n",
       "}}\n",
       "\n",
       "// Listen for the clearing of the current output cell\n",
       "var outputEl = gd.closest('.output');\n",
       "if (outputEl) {{\n",
       "    x.observe(outputEl, {childList: true});\n",
       "}}\n",
       "\n",
       "                        })                };            </script>        </div>"
      ]
     },
     "metadata": {},
     "output_type": "display_data"
    }
   ],
   "source": [
    "# TWh version (display inline)\n",
    "interactive_fig_twh = processor.create_interactive_sankey(selected_years, flow_threshold=10.0, unit='TWh', show=True)"
   ]
  },
  {
   "cell_type": "markdown",
   "metadata": {},
   "source": [
    "## Installed capacities"
   ]
  },
  {
   "cell_type": "code",
   "execution_count": 7,
   "metadata": {},
   "outputs": [
    {
     "name": "stdout",
     "output_type": "stream",
     "text": [
      "\n",
      "Creating capacity bar plot for years: [2005, 2006, 2010, 2015, 2020, 2200]\n",
      "Created capacity bar plot with 5 technology types\n"
     ]
    },
    {
     "data": {
      "text/html": [
       "<div>            <script src=\"https://cdnjs.cloudflare.com/ajax/libs/mathjax/2.7.5/MathJax.js?config=TeX-AMS-MML_SVG\"></script><script type=\"text/javascript\">if (window.MathJax && window.MathJax.Hub && window.MathJax.Hub.Config) {window.MathJax.Hub.Config({SVG: {font: \"STIX-Web\"}});}</script>                <script type=\"text/javascript\">window.PlotlyConfig = {MathJaxConfig: 'local'};</script>\n",
       "        <script charset=\"utf-8\" src=\"https://cdn.plot.ly/plotly-3.1.0.min.js\" integrity=\"sha256-Ei4740bWZhaUTQuD6q9yQlgVCMPBz6CZWhevDYPv93A=\" crossorigin=\"anonymous\"></script>                <div id=\"a79b35f7-4608-46c3-8e1e-d770f1beb5ff\" class=\"plotly-graph-div\" style=\"height:600px; width:1000px;\"></div>            <script type=\"text/javascript\">                window.PLOTLYENV=window.PLOTLYENV || {};                                if (document.getElementById(\"a79b35f7-4608-46c3-8e1e-d770f1beb5ff\")) {                    Plotly.newPlot(                        \"a79b35f7-4608-46c3-8e1e-d770f1beb5ff\",                        [{\"marker\":{\"color\":\"rgba(139,69,19,0.8)\"},\"name\":\"Coal Power\",\"x\":{\"dtype\":\"i2\",\"bdata\":\"1QfWB9oH3wfkBw==\"},\"y\":{\"dtype\":\"f8\",\"bdata\":\"upaV6OMvYUB+7OJPX81jQC6mJRoKD2dAXLWFcGmqZ0AUpQm4tU1oQA==\"},\"type\":\"bar\"},{\"marker\":{\"color\":\"rgba(0,0,255,0.8)\"},\"name\":\"Gas Power\",\"x\":{\"dtype\":\"i2\",\"bdata\":\"1QfWB9oH3wfkBw==\"},\"y\":{\"dtype\":\"f8\",\"bdata\":\"pTF97hHoWUCQVV1vd5xYQAcBsvQTh1ZAjCSR9boaW0C9+f0RJupfQA==\"},\"type\":\"bar\"},{\"marker\":{\"color\":\"rgba(255,0,0,0.8)\"},\"name\":\"Nuclear Power\",\"x\":{\"dtype\":\"i2\",\"bdata\":\"1QfWB9oH3wfkBw==\"},\"y\":{\"dtype\":\"f8\",\"bdata\":\"MHcTmAlSX0AwdxOYCVJfQDB3E5gJUl9AMHcTmAlSX0AwdxOYCVJfQA==\"},\"type\":\"bar\"},{\"marker\":{\"color\":\"rgba(0,0,0,0.8)\"},\"name\":\"Oil Power\",\"x\":{\"dtype\":\"i2\",\"bdata\":\"1QfWB9oH3wfkBw==\"},\"y\":{\"dtype\":\"f8\",\"bdata\":\"7zcXK6jXJkDzgqcpvBQmQJ6u6CMMCSNAkEp0OeB0HkDvNxcrqNcWQA==\"},\"type\":\"bar\"},{\"marker\":{\"color\":\"rgba(0,255,0,0.8)\"},\"name\":\"Renewable Power\",\"x\":{\"dtype\":\"i2\",\"bdata\":\"1QfWB9oH3wfkBw==\"},\"y\":{\"dtype\":\"f8\",\"bdata\":\"RYNoYvceVkBFg2hi9x5WQEWDaGL3HlZARYNoYvceVkBFg2hi9x5WQA==\"},\"type\":\"bar\"}],                        {\"template\":{\"data\":{\"histogram2dcontour\":[{\"type\":\"histogram2dcontour\",\"colorbar\":{\"outlinewidth\":0,\"ticks\":\"\"},\"colorscale\":[[0.0,\"#0d0887\"],[0.1111111111111111,\"#46039f\"],[0.2222222222222222,\"#7201a8\"],[0.3333333333333333,\"#9c179e\"],[0.4444444444444444,\"#bd3786\"],[0.5555555555555556,\"#d8576b\"],[0.6666666666666666,\"#ed7953\"],[0.7777777777777778,\"#fb9f3a\"],[0.8888888888888888,\"#fdca26\"],[1.0,\"#f0f921\"]]}],\"choropleth\":[{\"type\":\"choropleth\",\"colorbar\":{\"outlinewidth\":0,\"ticks\":\"\"}}],\"histogram2d\":[{\"type\":\"histogram2d\",\"colorbar\":{\"outlinewidth\":0,\"ticks\":\"\"},\"colorscale\":[[0.0,\"#0d0887\"],[0.1111111111111111,\"#46039f\"],[0.2222222222222222,\"#7201a8\"],[0.3333333333333333,\"#9c179e\"],[0.4444444444444444,\"#bd3786\"],[0.5555555555555556,\"#d8576b\"],[0.6666666666666666,\"#ed7953\"],[0.7777777777777778,\"#fb9f3a\"],[0.8888888888888888,\"#fdca26\"],[1.0,\"#f0f921\"]]}],\"heatmap\":[{\"type\":\"heatmap\",\"colorbar\":{\"outlinewidth\":0,\"ticks\":\"\"},\"colorscale\":[[0.0,\"#0d0887\"],[0.1111111111111111,\"#46039f\"],[0.2222222222222222,\"#7201a8\"],[0.3333333333333333,\"#9c179e\"],[0.4444444444444444,\"#bd3786\"],[0.5555555555555556,\"#d8576b\"],[0.6666666666666666,\"#ed7953\"],[0.7777777777777778,\"#fb9f3a\"],[0.8888888888888888,\"#fdca26\"],[1.0,\"#f0f921\"]]}],\"contourcarpet\":[{\"type\":\"contourcarpet\",\"colorbar\":{\"outlinewidth\":0,\"ticks\":\"\"}}],\"contour\":[{\"type\":\"contour\",\"colorbar\":{\"outlinewidth\":0,\"ticks\":\"\"},\"colorscale\":[[0.0,\"#0d0887\"],[0.1111111111111111,\"#46039f\"],[0.2222222222222222,\"#7201a8\"],[0.3333333333333333,\"#9c179e\"],[0.4444444444444444,\"#bd3786\"],[0.5555555555555556,\"#d8576b\"],[0.6666666666666666,\"#ed7953\"],[0.7777777777777778,\"#fb9f3a\"],[0.8888888888888888,\"#fdca26\"],[1.0,\"#f0f921\"]]}],\"surface\":[{\"type\":\"surface\",\"colorbar\":{\"outlinewidth\":0,\"ticks\":\"\"},\"colorscale\":[[0.0,\"#0d0887\"],[0.1111111111111111,\"#46039f\"],[0.2222222222222222,\"#7201a8\"],[0.3333333333333333,\"#9c179e\"],[0.4444444444444444,\"#bd3786\"],[0.5555555555555556,\"#d8576b\"],[0.6666666666666666,\"#ed7953\"],[0.7777777777777778,\"#fb9f3a\"],[0.8888888888888888,\"#fdca26\"],[1.0,\"#f0f921\"]]}],\"mesh3d\":[{\"type\":\"mesh3d\",\"colorbar\":{\"outlinewidth\":0,\"ticks\":\"\"}}],\"scatter\":[{\"fillpattern\":{\"fillmode\":\"overlay\",\"size\":10,\"solidity\":0.2},\"type\":\"scatter\"}],\"parcoords\":[{\"type\":\"parcoords\",\"line\":{\"colorbar\":{\"outlinewidth\":0,\"ticks\":\"\"}}}],\"scatterpolargl\":[{\"type\":\"scatterpolargl\",\"marker\":{\"colorbar\":{\"outlinewidth\":0,\"ticks\":\"\"}}}],\"bar\":[{\"error_x\":{\"color\":\"#2a3f5f\"},\"error_y\":{\"color\":\"#2a3f5f\"},\"marker\":{\"line\":{\"color\":\"#E5ECF6\",\"width\":0.5},\"pattern\":{\"fillmode\":\"overlay\",\"size\":10,\"solidity\":0.2}},\"type\":\"bar\"}],\"scattergeo\":[{\"type\":\"scattergeo\",\"marker\":{\"colorbar\":{\"outlinewidth\":0,\"ticks\":\"\"}}}],\"scatterpolar\":[{\"type\":\"scatterpolar\",\"marker\":{\"colorbar\":{\"outlinewidth\":0,\"ticks\":\"\"}}}],\"histogram\":[{\"marker\":{\"pattern\":{\"fillmode\":\"overlay\",\"size\":10,\"solidity\":0.2}},\"type\":\"histogram\"}],\"scattergl\":[{\"type\":\"scattergl\",\"marker\":{\"colorbar\":{\"outlinewidth\":0,\"ticks\":\"\"}}}],\"scatter3d\":[{\"type\":\"scatter3d\",\"line\":{\"colorbar\":{\"outlinewidth\":0,\"ticks\":\"\"}},\"marker\":{\"colorbar\":{\"outlinewidth\":0,\"ticks\":\"\"}}}],\"scattermap\":[{\"type\":\"scattermap\",\"marker\":{\"colorbar\":{\"outlinewidth\":0,\"ticks\":\"\"}}}],\"scattermapbox\":[{\"type\":\"scattermapbox\",\"marker\":{\"colorbar\":{\"outlinewidth\":0,\"ticks\":\"\"}}}],\"scatterternary\":[{\"type\":\"scatterternary\",\"marker\":{\"colorbar\":{\"outlinewidth\":0,\"ticks\":\"\"}}}],\"scattercarpet\":[{\"type\":\"scattercarpet\",\"marker\":{\"colorbar\":{\"outlinewidth\":0,\"ticks\":\"\"}}}],\"carpet\":[{\"aaxis\":{\"endlinecolor\":\"#2a3f5f\",\"gridcolor\":\"white\",\"linecolor\":\"white\",\"minorgridcolor\":\"white\",\"startlinecolor\":\"#2a3f5f\"},\"baxis\":{\"endlinecolor\":\"#2a3f5f\",\"gridcolor\":\"white\",\"linecolor\":\"white\",\"minorgridcolor\":\"white\",\"startlinecolor\":\"#2a3f5f\"},\"type\":\"carpet\"}],\"table\":[{\"cells\":{\"fill\":{\"color\":\"#EBF0F8\"},\"line\":{\"color\":\"white\"}},\"header\":{\"fill\":{\"color\":\"#C8D4E3\"},\"line\":{\"color\":\"white\"}},\"type\":\"table\"}],\"barpolar\":[{\"marker\":{\"line\":{\"color\":\"#E5ECF6\",\"width\":0.5},\"pattern\":{\"fillmode\":\"overlay\",\"size\":10,\"solidity\":0.2}},\"type\":\"barpolar\"}],\"pie\":[{\"automargin\":true,\"type\":\"pie\"}]},\"layout\":{\"autotypenumbers\":\"strict\",\"colorway\":[\"#636efa\",\"#EF553B\",\"#00cc96\",\"#ab63fa\",\"#FFA15A\",\"#19d3f3\",\"#FF6692\",\"#B6E880\",\"#FF97FF\",\"#FECB52\"],\"font\":{\"color\":\"#2a3f5f\"},\"hovermode\":\"closest\",\"hoverlabel\":{\"align\":\"left\"},\"paper_bgcolor\":\"white\",\"plot_bgcolor\":\"#E5ECF6\",\"polar\":{\"bgcolor\":\"#E5ECF6\",\"angularaxis\":{\"gridcolor\":\"white\",\"linecolor\":\"white\",\"ticks\":\"\"},\"radialaxis\":{\"gridcolor\":\"white\",\"linecolor\":\"white\",\"ticks\":\"\"}},\"ternary\":{\"bgcolor\":\"#E5ECF6\",\"aaxis\":{\"gridcolor\":\"white\",\"linecolor\":\"white\",\"ticks\":\"\"},\"baxis\":{\"gridcolor\":\"white\",\"linecolor\":\"white\",\"ticks\":\"\"},\"caxis\":{\"gridcolor\":\"white\",\"linecolor\":\"white\",\"ticks\":\"\"}},\"coloraxis\":{\"colorbar\":{\"outlinewidth\":0,\"ticks\":\"\"}},\"colorscale\":{\"sequential\":[[0.0,\"#0d0887\"],[0.1111111111111111,\"#46039f\"],[0.2222222222222222,\"#7201a8\"],[0.3333333333333333,\"#9c179e\"],[0.4444444444444444,\"#bd3786\"],[0.5555555555555556,\"#d8576b\"],[0.6666666666666666,\"#ed7953\"],[0.7777777777777778,\"#fb9f3a\"],[0.8888888888888888,\"#fdca26\"],[1.0,\"#f0f921\"]],\"sequentialminus\":[[0.0,\"#0d0887\"],[0.1111111111111111,\"#46039f\"],[0.2222222222222222,\"#7201a8\"],[0.3333333333333333,\"#9c179e\"],[0.4444444444444444,\"#bd3786\"],[0.5555555555555556,\"#d8576b\"],[0.6666666666666666,\"#ed7953\"],[0.7777777777777778,\"#fb9f3a\"],[0.8888888888888888,\"#fdca26\"],[1.0,\"#f0f921\"]],\"diverging\":[[0,\"#8e0152\"],[0.1,\"#c51b7d\"],[0.2,\"#de77ae\"],[0.3,\"#f1b6da\"],[0.4,\"#fde0ef\"],[0.5,\"#f7f7f7\"],[0.6,\"#e6f5d0\"],[0.7,\"#b8e186\"],[0.8,\"#7fbc41\"],[0.9,\"#4d9221\"],[1,\"#276419\"]]},\"xaxis\":{\"gridcolor\":\"white\",\"linecolor\":\"white\",\"ticks\":\"\",\"title\":{\"standoff\":15},\"zerolinecolor\":\"white\",\"automargin\":true,\"zerolinewidth\":2},\"yaxis\":{\"gridcolor\":\"white\",\"linecolor\":\"white\",\"ticks\":\"\",\"title\":{\"standoff\":15},\"zerolinecolor\":\"white\",\"automargin\":true,\"zerolinewidth\":2},\"scene\":{\"xaxis\":{\"backgroundcolor\":\"#E5ECF6\",\"gridcolor\":\"white\",\"linecolor\":\"white\",\"showbackground\":true,\"ticks\":\"\",\"zerolinecolor\":\"white\",\"gridwidth\":2},\"yaxis\":{\"backgroundcolor\":\"#E5ECF6\",\"gridcolor\":\"white\",\"linecolor\":\"white\",\"showbackground\":true,\"ticks\":\"\",\"zerolinecolor\":\"white\",\"gridwidth\":2},\"zaxis\":{\"backgroundcolor\":\"#E5ECF6\",\"gridcolor\":\"white\",\"linecolor\":\"white\",\"showbackground\":true,\"ticks\":\"\",\"zerolinecolor\":\"white\",\"gridwidth\":2}},\"shapedefaults\":{\"line\":{\"color\":\"#2a3f5f\"}},\"annotationdefaults\":{\"arrowcolor\":\"#2a3f5f\",\"arrowhead\":0,\"arrowwidth\":1},\"geo\":{\"bgcolor\":\"white\",\"landcolor\":\"#E5ECF6\",\"subunitcolor\":\"white\",\"showland\":true,\"showlakes\":true,\"lakecolor\":\"white\"},\"title\":{\"x\":0.05},\"mapbox\":{\"style\":\"light\"}}},\"font\":{\"size\":12},\"title\":{\"text\":\"Power Generation Capacity by Technology (MW)\"},\"xaxis\":{\"title\":{\"text\":\"Year\"}},\"yaxis\":{\"title\":{\"text\":\"Capacity (MW)\"}},\"barmode\":\"stack\",\"width\":1000,\"height\":600},                        {\"responsive\": true}                    ).then(function(){\n",
       "                            \n",
       "var gd = document.getElementById('a79b35f7-4608-46c3-8e1e-d770f1beb5ff');\n",
       "var x = new MutationObserver(function (mutations, observer) {{\n",
       "        var display = window.getComputedStyle(gd).display;\n",
       "        if (!display || display === 'none') {{\n",
       "            console.log([gd, 'removed!']);\n",
       "            Plotly.purge(gd);\n",
       "            observer.disconnect();\n",
       "        }}\n",
       "}});\n",
       "\n",
       "// Listen for the removal of the full notebook cells\n",
       "var notebookContainer = gd.closest('#notebook-container');\n",
       "if (notebookContainer) {{\n",
       "    x.observe(notebookContainer, {childList: true});\n",
       "}}\n",
       "\n",
       "// Listen for the clearing of the current output cell\n",
       "var outputEl = gd.closest('.output');\n",
       "if (outputEl) {{\n",
       "    x.observe(outputEl, {childList: true});\n",
       "}}\n",
       "\n",
       "                        })                };            </script>        </div>"
      ]
     },
     "metadata": {},
     "output_type": "display_data"
    },
    {
     "name": "stdout",
     "output_type": "stream",
     "text": [
      "\n",
      "============================================================\n",
      "Exporting Sankey Data to CSV Files...\n",
      "Exporting Sankey data for year 2020...\n",
      "PJ data exported to: ../output/sankey_data_2020_pj.csv\n",
      "TWh data exported to: ../output/sankey_data_2020_twh.csv\n",
      "Exported 25 nodes and 26 flows for year 2020\n",
      "Sankey data for 2020 exported to CSV files\n"
     ]
    }
   ],
   "source": [
    "\n",
    "capacity_fig = processor.create_capacity_bar_plot(selected_years, show=True)\n",
    "\n",
    "print(f\"\\n{'='*60}\")\n",
    "print(\"Exporting Sankey Data to CSV Files...\")\n",
    "\n",
    "export_year = 2020\n",
    "if export_year in selected_years:\n",
    "    processor.export_sankey_data_to_csv(export_year)\n",
    "    print(f\"Sankey data for {export_year} exported to CSV files\")\n",
    "else:\n",
    "    print(f\"Year {export_year} not available in data. Available years: {years}\")\n"
   ]
  },
  {
   "cell_type": "code",
   "execution_count": null,
   "metadata": {},
   "outputs": [],
   "source": []
  }
 ],
 "metadata": {
  "kernelspec": {
   "display_name": "Python 3 (ipykernel)",
   "language": "python",
   "name": "python3"
  },
  "language_info": {
   "codemirror_mode": {
    "name": "ipython",
    "version": 3
   },
   "file_extension": ".py",
   "mimetype": "text/x-python",
   "name": "python",
   "nbconvert_exporter": "python",
   "pygments_lexer": "ipython3",
   "version": "3.10.13"
  }
 },
 "nbformat": 4,
 "nbformat_minor": 4
}
